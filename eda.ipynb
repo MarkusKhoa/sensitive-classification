{
 "cells": [
  {
   "cell_type": "code",
   "execution_count": 1,
   "metadata": {},
   "outputs": [],
   "source": [
    "import webbrowser"
   ]
  },
  {
   "cell_type": "code",
   "execution_count": 2,
   "metadata": {},
   "outputs": [],
   "source": [
    "import pandas as pd\n",
    "med_knowledge_df = pd.read_csv(\"./medical_knowledge - Copy.csv\", encoding='utf-16')"
   ]
  },
  {
   "cell_type": "code",
   "execution_count": 3,
   "metadata": {},
   "outputs": [
    {
     "data": {
      "text/plain": [
       "type\n",
       "bài giảng            2327\n",
       "hướng dẫn byt        2094\n",
       "kiến thức             722\n",
       "ecg                   576\n",
       "tình huống            474\n",
       "bài giảng video       299\n",
       "sách                  247\n",
       "thuốc                 133\n",
       "phác đồ               126\n",
       "khác                   87\n",
       "cme48                  28\n",
       "hình ảnh               24\n",
       "văn bản                 8\n",
       "tin cho bệnh nhân       3\n",
       "luật                    1\n",
       "Name: count, dtype: int64"
      ]
     },
     "execution_count": 3,
     "metadata": {},
     "output_type": "execute_result"
    }
   ],
   "source": [
    "med_knowledge_df.type.value_counts()"
   ]
  },
  {
   "cell_type": "code",
   "execution_count": null,
   "metadata": {},
   "outputs": [],
   "source": [
    "med_knowledge_df.to_html('med_knowledge_df.html')\n",
    "webbrowser.open('med_knowledge_df.html')"
   ]
  },
  {
   "cell_type": "code",
   "execution_count": null,
   "metadata": {},
   "outputs": [],
   "source": [
    "types_distribution = med_knowledge_df.type.value_counts()\n",
    "print(types_distribution)"
   ]
  },
  {
   "cell_type": "code",
   "execution_count": null,
   "metadata": {},
   "outputs": [],
   "source": [
    "obstretic_ids = [i for i in range(273, 291)]\n",
    "print(obstretic_ids)"
   ]
  },
  {
   "cell_type": "code",
   "execution_count": null,
   "metadata": {},
   "outputs": [],
   "source": [
    "obstretic_df = med_knowledge_df.loc[med_knowledge_df['id'].isin(obstretic_ids)]"
   ]
  },
  {
   "cell_type": "code",
   "execution_count": null,
   "metadata": {},
   "outputs": [],
   "source": [
    "obstretic_df.to_html('obstretic_df.html')\n",
    "webbrowser.open('obstretic_df.html')"
   ]
  },
  {
   "cell_type": "code",
   "execution_count": null,
   "metadata": {},
   "outputs": [],
   "source": [
    "andrology_ids = [i for i in range(297, 303)]\n",
    "print(andrology_ids)\n",
    "\n",
    "andrology_df = med_knowledge_df.loc[med_knowledge_df['id'].isin(andrology_ids)]\n",
    "andrology_df.to_html('andrology_df.html')\n",
    "webbrowser.open('andrology_df.html')"
   ]
  },
  {
   "cell_type": "code",
   "execution_count": null,
   "metadata": {},
   "outputs": [],
   "source": [
    "dengue_fever_ids = [i for i in range(382, 388)]\n",
    "print(dengue_fever_ids)\n",
    "\n",
    "dengue_fever_df = med_knowledge_df.loc[med_knowledge_df['id'].isin(dengue_fever_ids)]\n",
    "dengue_fever_df.to_html('dengue_fever_df.html')\n",
    "webbrowser.open('dengue_fever_df.html')"
   ]
  },
  {
   "cell_type": "code",
   "execution_count": null,
   "metadata": {},
   "outputs": [],
   "source": [
    "dengue_fever_ids = [i for i in range(382, 388)]\n",
    "print(dengue_fever_ids)\n",
    "\n",
    "dengue_fever_df = med_knowledge_df.loc[med_knowledge_df['id'].isin(dengue_fever_ids)]\n",
    "dengue_fever_df.to_html('dengue_fever_df.html')\n",
    "webbrowser.open('dengue_fever_df.html')"
   ]
  }
 ],
 "metadata": {
  "kernelspec": {
   "display_name": "llm_env",
   "language": "python",
   "name": "python3"
  },
  "language_info": {
   "codemirror_mode": {
    "name": "ipython",
    "version": 3
   },
   "file_extension": ".py",
   "mimetype": "text/x-python",
   "name": "python",
   "nbconvert_exporter": "python",
   "pygments_lexer": "ipython3",
   "version": "3.10.14"
  }
 },
 "nbformat": 4,
 "nbformat_minor": 2
}
